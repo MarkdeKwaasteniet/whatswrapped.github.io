{
 "cells": [
  {
   "cell_type": "code",
   "execution_count": 337,
   "metadata": {},
   "outputs": [],
   "source": [
    "from datetime import datetime \n",
    "import pandas as pd\n",
    "import numpy as np\n",
    "import re\n",
    "import emoji\n",
    "\n",
    "# The format string should match the format of the date and time string\n",
    "# In this case, the date and time string is in the format 'MM/DD/YY, HH:MM:SS AM/PM'\n",
    "date_time_format = '%m/%d/%y, %I:%M:%S %p'\n",
    "date_time_list = []\n",
    "name_list = []\n",
    "text_list = []\n",
    "total_file = []\n",
    "\n",
    "file = r\"C:\\Users\\markkw\\Downloads\\WhatsApp Chat\\_chat.txt\"\n",
    "with open(file, encoding=\"utf8\") as f:\n",
    "    for line in f.readlines():\n",
    "        total_file.append(line)\n",
    "        if line[0] == \"[\":\n",
    "            date_time_list.append(datetime.strptime(line.split(']', 1)[0].replace('[', ''), date_time_format))\n",
    "            name_list.append(line.split(']', 1)[1].split(\":\",1)[0])\n",
    "            if \":\" in line.split(']', 1)[1]:\n",
    "                text_list.append(line.split(']', 1)[1].split(\":\",1)[1].replace(\"\\n\", \"\"))\n",
    "            else: \n",
    "                text_list.append(\"-\")\n",
    "\n",
    "df = pd.DataFrame()\n",
    "df['date'] = date_time_list\n",
    "df['Person'] = name_list\n",
    "df['Message'] = text_list\n",
    "df = df[df['Message'] != \"-\"]\n",
    "pattern = re.compile(r\"|\".join(map(re.escape, emoji.EMOJI_DATA)))\n",
    "\n",
    "df[\"Emojis\"] = df[\"Message\"].apply(lambda x: \"\".join(pattern.findall(x)))\n",
    "df[\"Sentence\"] = df[\"Message\"].apply(lambda x: pattern.sub(\"\", x))\n",
    "\n",
    "# start_date = '2022-01-01 00:01:53'\n",
    "# end_date = '2022-12-10 16:08:33'\n",
    "# Select DataFrame rows between two dates\n",
    "df = df[(df['date'] > '2022-1-1') & (df['date'] <= '2022-12-30')]\n",
    "\n"
   ]
  },
  {
   "cell_type": "code",
   "execution_count": 408,
   "metadata": {},
   "outputs": [],
   "source": [
    "from vaderSentiment.vaderSentiment import SentimentIntensityAnalyzer\n",
    "analyser = SentimentIntensityAnalyzer()\n",
    "import re\n",
    "\n",
    "def sentiment_analyzer(row):\n",
    "    score = analyser.polarity_scores(str(row))\n",
    "    \n",
    "    return score['compound']\n",
    "\n",
    "def count_emojis(row):\n",
    "    return len(row)\n",
    "\n",
    "def count_char(row):\n",
    "    return len(row.replace(\" \", \"\"))\n",
    "\n",
    "def count_words(row):\n",
    "    return len(row.split(\" \")) - 1 \n",
    "\n",
    "def count_ha(row):\n",
    "    if row.count('haha') == 1:\n",
    "        return 2\n",
    "    elif row.count('hahaha') == 1:\n",
    "        return 3\n",
    "    elif row.count('hahah') == 1:\n",
    "        return 2.5\n",
    "    else:\n",
    "        return row.count('haha') * 2\n",
    "\n",
    "def count_quest(row):\n",
    "    return row.count('?')\n",
    "\n",
    "def count_upper(row):\n",
    "    return sum(1 for char in row if char.isupper())\n",
    "\n",
    "def count_schelden(row):\n",
    "    aantal = []\n",
    "    aantal.append(row.count('kut'))\n",
    "    aantal.append(row.count('Kut'))\n",
    "    aantal.append(row.count('KUT'))\n",
    "    aantal.append(row.count('gvd'))\n",
    "    aantal.append(row.count('GVD'))\n",
    "    aantal.append(row.count('godverdomme'))\n",
    "    aantal.append(row.count('kloten'))\n",
    "    aantal.append(row.count('klote'))\n",
    "    aantal.append(row.count('tyfus'))\n",
    "    aantal.append(row.count('tering'))\n",
    "    aantal.append(row.count('Tering'))\n",
    "    aantal.append(row.count('Tyfus'))\n",
    "    aantal.append(row.count('Kutzooi'))\n",
    "    aantal.append(row.count('Kanker'))\n",
    "    aantal.append(row.count('kanker'))\n",
    "    aantal.append(row.count('KANKER'))\n",
    "    return sum(aantal)\n",
    "\n",
    "def langste_woord(row):\n",
    "    # split the sentences into a list of words\n",
    "    words = row.split()\n",
    "\n",
    "    # sort the list of words by length\n",
    "    words.sort(key=len, reverse=True)\n",
    "\n",
    "    # return the longest word\n",
    "    try:\n",
    "        if len(words[0]) == 194:\n",
    "            print(row)\n",
    "        return len(words[0])\n",
    "    except:\n",
    "        return np.nan"
   ]
  },
  {
   "cell_type": "code",
   "execution_count": 356,
   "metadata": {},
   "outputs": [],
   "source": [
    "df_index = df.set_index('date')"
   ]
  },
  {
   "cell_type": "code",
   "execution_count": 357,
   "metadata": {},
   "outputs": [],
   "source": [
    "df_night = df_index.between_time('0:00', '6:45')\n",
    "df_ochtend = df_index.between_time('6:00', '12:00')"
   ]
  },
  {
   "cell_type": "code",
   "execution_count": 405,
   "metadata": {},
   "outputs": [],
   "source": [
    "df['Person'] = df['Person'].replace(' \\u202a+31\\xa06\\xa055442275\\u202c', \" Chris 'netjes' de Kwaasteniet\")\n",
    "df['Person'] = df['Person'].replace(\" Chris 'netjes' de Kwaasteniet\", \"Chris 'netjes' de Kwaasteniet\")\n",
    "df['Person'] = df['Person'].replace(' \\u200eYou', \" Mark de Kw\")\n",
    "df['Person'] = df['Person'].replace(' Mark de Kw', \"Mark de Kw\")\n",
    "df['Emojis_count'] = df['Emojis'].map(lambda x: count_emojis(x))\n",
    "df['character_count'] = df['Sentence'].map(lambda x: count_char(x))\n",
    "df['word_count'] = df['Sentence'].map(lambda x: count_words(x))\n",
    "df['haha_count'] = df['Sentence'].map(lambda x: count_ha(x))\n",
    "df['quest_count'] = df['Sentence'].map(lambda x: count_quest(x))\n",
    "df['upper_count'] = df['Sentence'].map(lambda x: count_upper(x))\n",
    "df['schelden'] = df['Sentence'].map(lambda x: count_schelden(x))\n",
    "df['langste_woord'] = df['Sentence'].map(lambda x: langste_woord(x))\n",
    "df['haha_count'] = df['haha_count'].replace(0, np.nan)\n",
    "df['Sentiment'] = df_test_en['Sentence'].iloc[-7520:].values\n",
    "df['Sentiment_score'] = df['Sentiment'].map(lambda x: sentiment_analyzer(x))\n",
    "df['Sentence'].to_excel(\"chat_excel.xlsx\")\n",
    "\n",
    "# df['Sentiment'] = df.apply(lambda row : sentiment_analyzer(row), axis=1)\n",
    "# df['Emojis'].value_counts()"
   ]
  },
  {
   "cell_type": "code",
   "execution_count": null,
   "metadata": {},
   "outputs": [],
   "source": [
    "df_test_en = pd.read_excel(\"chat_excel_en_sent.xlsx\")"
   ]
  },
  {
   "cell_type": "code",
   "execution_count": 406,
   "metadata": {},
   "outputs": [],
   "source": [
    "df_data = pd.DataFrame(index= df.iloc[1:,:].Person.value_counts().index, columns= {\"Berichten\": df.iloc[1:,:].Person.value_counts().values})"
   ]
  },
  {
   "cell_type": "code",
   "execution_count": 407,
   "metadata": {},
   "outputs": [
    {
     "name": "stderr",
     "output_type": "stream",
     "text": [
      "C:\\Users\\markkw\\AppData\\Local\\Temp\\ipykernel_17128\\3805814710.py:12: FutureWarning: Dropping invalid columns in DataFrameGroupBy.max is deprecated. In a future version, a TypeError will be raised. Before calling .max, select only columns which should be valid for the function.\n",
      "  df_data['Langste_Bericht'] = df.iloc[1:,:].groupby(by=\"Person\").max().word_count\n",
      "C:\\Users\\markkw\\AppData\\Local\\Temp\\ipykernel_17128\\3805814710.py:13: FutureWarning: Dropping invalid columns in DataFrameGroupBy.max is deprecated. In a future version, a TypeError will be raised. Before calling .max, select only columns which should be valid for the function.\n",
      "  df_data['Langste_Woord'] = df.iloc[1:,:].groupby(by=\"Person\").max().langste_woord\n"
     ]
    }
   ],
   "source": [
    "df_data['Nacht'] = df_night.iloc[1:,:].Person.value_counts()\n",
    "df_data['Ochtend'] = df_ochtend.iloc[1:,:].Person.value_counts()\n",
    "df_data['Vragen'] = df.iloc[1:,:].groupby(by=\"Person\").mean().quest_count\n",
    "df_data['Sentiment'] = df.iloc[1:,:].groupby(by=\"Person\").mean().Sentiment_score\n",
    "df_data['Sentiment_Tot'] = df.iloc[1:,:].groupby(by=\"Person\").sum().Sentiment_score\n",
    "df_data['Woorden'] = df.iloc[1:,:].groupby(by=\"Person\").mean().word_count\n",
    "df_data['Woorden_Tot'] = df.iloc[1:,:].groupby(by=\"Person\").sum().word_count\n",
    "df_data['Lachen'] = df.iloc[1:,:].groupby(by=\"Person\").mean().haha_count\n",
    "df_data['Lachen_Tot'] = df.iloc[1:,:].groupby(by=\"Person\").sum().haha_count\n",
    "df_data['emoji'] = df.iloc[1:,:].groupby(by=\"Person\").mean().Emojis_count\n",
    "df_data['emoji_Tot'] = df.iloc[1:,:].groupby(by=\"Person\").sum().Emojis_count\n",
    "df_data['Langste_Bericht'] = df.iloc[1:,:].groupby(by=\"Person\").max().word_count\n",
    "df_data['Langste_Woord'] = df.iloc[1:,:].groupby(by=\"Person\").max().langste_woord\n",
    "df_data['Gefrustreerd'] = df.iloc[1:,:].groupby(by=\"Person\").mean().schelden\n",
    "df_data['Gefrustreerd_Tot'] = df.iloc[1:,:].groupby(by=\"Person\").sum().schelden\n"
   ]
  },
  {
   "cell_type": "code",
   "execution_count": 309,
   "metadata": {},
   "outputs": [
    {
     "name": "stdout",
     "output_type": "stream",
     "text": [
      "[[Timestamp('2022-03-28 11:39:20') \" Steven 'joppie' Oudejans\"\n",
      "  \" Even een gek vraagje, ken jij wellicht iemand die zich bezighoudt met huurrecht? We kregen gister een beetje een vreemd belletje van onze huisbaas, zij is zelf Italiaans, heeft het huis gekocht toen ze hier woonde en verhuurd het nu aan ons en woont zelf in Doha. We hebben inmiddels een contract voor onbepaalde tijd, maar ze belde gister met een verhaal dat de bank erachter is gekomen dat zij als niet-Nederlandse staatsburger zelf in het buitenland woont en een huis hier verhuurd, dus dat zij 1. het huis moet verkopen of 2. een contract met een maximale duratie van 5 jaar kan aanbieden onder een 'diplomatenclausule'. Ze wilt ons nu dus een nieuw contract laten tekenen waarmee we met terugwerkende kracht nog 4 jaar hier kunnen wonen en zij gedurende de hele duratie van dat contract kan aangeven dat ze terug wilt verhuizen naar Nederland en ons dus ff binnen 3 maanden eruit kan kicken. Voelt niet heel chill en volgens mij schieten wij onszelf in de voet als wij een nieuw contract tekenen. Wil het dus graag ff laten checken bij een jurist wat onze mogelijkheden zijn en of haar verhaal wel helemaal zuiver is.\"\n",
      "  ''\n",
      "  \" Even een gek vraagje, ken jij wellicht iemand die zich bezighoudt met huurrecht? We kregen gister een beetje een vreemd belletje van onze huisbaas, zij is zelf Italiaans, heeft het huis gekocht toen ze hier woonde en verhuurd het nu aan ons en woont zelf in Doha. We hebben inmiddels een contract voor onbepaalde tijd, maar ze belde gister met een verhaal dat de bank erachter is gekomen dat zij als niet-Nederlandse staatsburger zelf in het buitenland woont en een huis hier verhuurd, dus dat zij 1. het huis moet verkopen of 2. een contract met een maximale duratie van 5 jaar kan aanbieden onder een 'diplomatenclausule'. Ze wilt ons nu dus een nieuw contract laten tekenen waarmee we met terugwerkende kracht nog 4 jaar hier kunnen wonen en zij gedurende de hele duratie van dat contract kan aangeven dat ze terug wilt verhuizen naar Nederland en ons dus ff binnen 3 maanden eruit kan kicken. Voelt niet heel chill en volgens mij schieten wij onszelf in de voet als wij een nieuw contract tekenen. Wil het dus graag ff laten checken bij een jurist wat onze mogelijkheden zijn en of haar verhaal wel helemaal zuiver is.\"\n",
      "  0 926 197 nan 1 10\n",
      "  \"Just a silly question, do you perhaps know someone who deals with tenancy law? Yesterday we received a bit of a strange call from our landlord, she is Italian herself, bought the house when she lived here and now rents it to us and lives in Doha herself. We now have a contract for an indefinite period, but she called yesterday with a story that the bank has found out that she, as a non-Dutch citizen, lives abroad herself and rents out a house here, so that she must 1. sell the house or 2. can offer a contract with a maximum duration of 5 years under a 'diplomatic clause'. So she now wants us to sign a new contract with which we can live here for another 4 years with retroactive effect and she can indicate throughout the duration of that contract that she wants to move back to the Netherlands and therefore kick us out within 3 months. Doesn't feel very chill and I think we're shooting ourselves in the foot if we sign a new contract. So I would like to have it checked with a lawyer what our options are and whether her story is completely pure.\"\n",
      "  0.5099]]\n"
     ]
    }
   ],
   "source": [
    "lengths = df[\"Sentence\"].str.len()\n",
    "argmax = np.where(lengths == lengths.max())[0]\n",
    "print(df.iloc[argmax].values)"
   ]
  },
  {
   "cell_type": "code",
   "execution_count": null,
   "metadata": {},
   "outputs": [],
   "source": []
  },
  {
   "cell_type": "code",
   "execution_count": 38,
   "metadata": {},
   "outputs": [],
   "source": [
    "df['Sentence'].to_excel(\"chat_excel.xlsx\")"
   ]
  },
  {
   "cell_type": "code",
   "execution_count": 39,
   "metadata": {},
   "outputs": [],
   "source": [
    "df_test_en = pd.read_excel(\"chat_excel_en_sent.xlsx\")"
   ]
  },
  {
   "cell_type": "code",
   "execution_count": 40,
   "metadata": {},
   "outputs": [
    {
     "data": {
      "text/html": [
       "<div>\n",
       "<style scoped>\n",
       "    .dataframe tbody tr th:only-of-type {\n",
       "        vertical-align: middle;\n",
       "    }\n",
       "\n",
       "    .dataframe tbody tr th {\n",
       "        vertical-align: top;\n",
       "    }\n",
       "\n",
       "    .dataframe thead th {\n",
       "        text-align: right;\n",
       "    }\n",
       "</style>\n",
       "<table border=\"1\" class=\"dataframe\">\n",
       "  <thead>\n",
       "    <tr style=\"text-align: right;\">\n",
       "      <th></th>\n",
       "      <th>Sentence</th>\n",
       "    </tr>\n",
       "  </thead>\n",
       "  <tbody>\n",
       "    <tr>\n",
       "      <th>0</th>\n",
       "      <td>‎Messages and calls are end-to-end encrypted....</td>\n",
       "    </tr>\n",
       "    <tr>\n",
       "      <th>1</th>\n",
       "      <td>Not sure yet, just ask :)</td>\n",
       "    </tr>\n",
       "    <tr>\n",
       "      <th>2</th>\n",
       "      <td>Hahahaha in Overwatch there is now a Dutch hero</td>\n",
       "    </tr>\n",
       "    <tr>\n",
       "      <th>3</th>\n",
       "      <td>Including The voice lines:</td>\n",
       "    </tr>\n",
       "    <tr>\n",
       "      <th>4</th>\n",
       "      <td>And when he pops his ult: THE UNIVERSE SINGS ...</td>\n",
       "    </tr>\n",
       "    <tr>\n",
       "      <th>...</th>\n",
       "      <td>...</td>\n",
       "    </tr>\n",
       "    <tr>\n",
       "      <th>32466</th>\n",
       "      <td>Amsterdam substitute force forced children to...</td>\n",
       "    </tr>\n",
       "    <tr>\n",
       "      <th>32467</th>\n",
       "      <td>vibes</td>\n",
       "    </tr>\n",
       "    <tr>\n",
       "      <th>32468</th>\n",
       "      <td>Employees too short cock</td>\n",
       "    </tr>\n",
       "    <tr>\n",
       "      <th>32469</th>\n",
       "      <td>Hahahahahaha</td>\n",
       "    </tr>\n",
       "    <tr>\n",
       "      <th>32470</th>\n",
       "      <td>I find this humorous</td>\n",
       "    </tr>\n",
       "  </tbody>\n",
       "</table>\n",
       "<p>32471 rows × 1 columns</p>\n",
       "</div>"
      ],
      "text/plain": [
       "                                                Sentence\n",
       "0       ‎Messages and calls are end-to-end encrypted....\n",
       "1                              Not sure yet, just ask :)\n",
       "2        Hahahaha in Overwatch there is now a Dutch hero\n",
       "3                             Including The voice lines:\n",
       "4       And when he pops his ult: THE UNIVERSE SINGS ...\n",
       "...                                                  ...\n",
       "32466   Amsterdam substitute force forced children to...\n",
       "32467                                              vibes\n",
       "32468                           Employees too short cock\n",
       "32469                                       Hahahahahaha\n",
       "32470                               I find this humorous\n",
       "\n",
       "[32471 rows x 1 columns]"
      ]
     },
     "execution_count": 40,
     "metadata": {},
     "output_type": "execute_result"
    }
   ],
   "source": [
    "df_test_en"
   ]
  },
  {
   "cell_type": "code",
   "execution_count": null,
   "metadata": {},
   "outputs": [],
   "source": []
  }
 ],
 "metadata": {
  "kernelspec": {
   "display_name": "base",
   "language": "python",
   "name": "python3"
  },
  "language_info": {
   "codemirror_mode": {
    "name": "ipython",
    "version": 3
   },
   "file_extension": ".py",
   "mimetype": "text/x-python",
   "name": "python",
   "nbconvert_exporter": "python",
   "pygments_lexer": "ipython3",
   "version": "3.9.12"
  },
  "orig_nbformat": 4,
  "vscode": {
   "interpreter": {
    "hash": "a98f4dcb094994f59f37042f60abd917a2f3a9c1748c86adfcfb5d36c626603f"
   }
  }
 },
 "nbformat": 4,
 "nbformat_minor": 2
}
